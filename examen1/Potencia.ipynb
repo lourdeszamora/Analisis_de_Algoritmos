{
  "nbformat": 4,
  "nbformat_minor": 0,
  "metadata": {
    "colab": {
      "name": "Potencia.ipynb",
      "provenance": [],
      "authorship_tag": "ABX9TyMiyjYfLd3QT6nwtazKiESW",
      "include_colab_link": true
    },
    "kernelspec": {
      "name": "python3",
      "display_name": "Python 3"
    }
  },
  "cells": [
    {
      "cell_type": "markdown",
      "metadata": {
        "id": "view-in-github",
        "colab_type": "text"
      },
      "source": [
        "<a href=\"https://colab.research.google.com/github/lourdeszamora/Analisis_de_Algoritmos/blob/main/examen1/Potencia.ipynb\" target=\"_parent\"><img src=\"https://colab.research.google.com/assets/colab-badge.svg\" alt=\"Open In Colab\"/></a>"
      ]
    },
    {
      "cell_type": "markdown",
      "metadata": {
        "id": "9nAyvLJNdok9"
      },
      "source": [
        "Code"
      ]
    },
    {
      "cell_type": "code",
      "metadata": {
        "colab": {
          "base_uri": "https://localhost:8080/"
        },
        "id": "dSzwtfeXdnyx",
        "outputId": "3992b231-03bd-4fef-ef77-755efc45b2ed"
      },
      "source": [
        "import math\n",
        "import sys\n",
        "\n",
        "sys.setrecursionlimit(10000)\n",
        "\n",
        "def potenciaDV(base, exponente):\n",
        "\n",
        "  if exponente == 1:\n",
        "    return base\n",
        "  if exponente == 2:\n",
        "    return base * base\n",
        "\n",
        "  #dividir a la mitad\n",
        "  nexponente = exponente / 2\n",
        "  nexponente = math.floor(nexponente)\n",
        "\n",
        "  resultado1 = potencia(base, nexponente)\n",
        "\n",
        "  if exponente-nexponente == nexponente:\n",
        "    return resultado1 * resultado1\n",
        "\n",
        "  if exponente-nexponente == nexponente +1:\n",
        "    return resultado1 * base\n",
        "\n",
        "  return potencia(base, nexponente) * potencia(base, exponente-nexponente)\n",
        "\n",
        "def potencia(base, exponente):\n",
        "  resultado= base\n",
        "  for i in range(1, exponente):\n",
        "    resultado*=base\n",
        "  return resultado\n",
        "\n",
        "print(potencia(2,4))\n",
        "print(potenciaDV(2,4))"
      ],
      "execution_count": null,
      "outputs": [
        {
          "output_type": "stream",
          "text": [
            "16\n",
            "16\n"
          ],
          "name": "stdout"
        }
      ]
    },
    {
      "cell_type": "markdown",
      "metadata": {
        "id": "ckFmvhGclMIP"
      },
      "source": [
        "##Grafico de tiempos de ejecucion"
      ]
    },
    {
      "cell_type": "code",
      "metadata": {
        "colab": {
          "base_uri": "https://localhost:8080/",
          "height": 1000
        },
        "id": "pfPAn364lRoo",
        "outputId": "a9bc6224-be62-4f6a-c038-89109a80fbf6"
      },
      "source": [
        "import matplotlib.pyplot as plt\n",
        "import numpy as np\n",
        "import time as t\n",
        "\n",
        "times = {}\n",
        "times_DP = {}\n",
        "\n",
        "def test(n):\n",
        "  start_time = t.time()\n",
        "  print(potencia(2,n))\n",
        "  times[n]= t.time() - start_time\n",
        "\n",
        "  start_time = t.time()\n",
        "  print(potenciaDV(2,n))\n",
        "  times_DP[n]= t.time() - start_time\n",
        "\n",
        "def plot(times):\n",
        "  lists = sorted(times.items())\n",
        "  x, y = zip(*lists)\n",
        "  plt.plot(x, y)\n",
        "  plt.show()\n",
        "\n",
        "for i in range(50):\n",
        "  test(i)\n",
        "\n",
        "plot(times)\n",
        "plot(times_DP)"
      ],
      "execution_count": null,
      "outputs": [
        {
          "output_type": "stream",
          "text": [
            "2\n",
            "4\n",
            "2\n",
            "2\n",
            "4\n",
            "4\n",
            "8\n",
            "4\n",
            "16\n",
            "16\n",
            "32\n",
            "8\n",
            "64\n",
            "64\n",
            "128\n",
            "16\n",
            "256\n",
            "256\n",
            "512\n",
            "32\n",
            "1024\n",
            "1024\n",
            "2048\n",
            "64\n",
            "4096\n",
            "4096\n",
            "8192\n",
            "128\n",
            "16384\n",
            "16384\n",
            "32768\n",
            "256\n",
            "65536\n",
            "65536\n",
            "131072\n",
            "512\n",
            "262144\n",
            "262144\n",
            "524288\n",
            "1024\n",
            "1048576\n",
            "1048576\n",
            "2097152\n",
            "2048\n",
            "4194304\n",
            "4194304\n",
            "8388608\n",
            "4096\n",
            "16777216\n",
            "16777216\n",
            "33554432\n",
            "8192\n",
            "67108864\n",
            "67108864\n",
            "134217728\n",
            "16384\n",
            "268435456\n",
            "268435456\n",
            "536870912\n",
            "32768\n",
            "1073741824\n",
            "1073741824\n",
            "2147483648\n",
            "65536\n",
            "4294967296\n",
            "4294967296\n",
            "8589934592\n",
            "131072\n",
            "17179869184\n",
            "17179869184\n",
            "34359738368\n",
            "262144\n",
            "68719476736\n",
            "68719476736\n",
            "137438953472\n",
            "524288\n",
            "274877906944\n",
            "274877906944\n",
            "549755813888\n",
            "1048576\n",
            "1099511627776\n",
            "1099511627776\n",
            "2199023255552\n",
            "2097152\n",
            "4398046511104\n",
            "4398046511104\n",
            "8796093022208\n",
            "4194304\n",
            "17592186044416\n",
            "17592186044416\n",
            "35184372088832\n",
            "8388608\n",
            "70368744177664\n",
            "70368744177664\n",
            "140737488355328\n",
            "16777216\n",
            "281474976710656\n",
            "281474976710656\n",
            "562949953421312\n",
            "33554432\n"
          ],
          "name": "stdout"
        },
        {
          "output_type": "display_data",
          "data": {
            "image/png": "[encoded data removed]",
            "text/plain": [
              "<Figure size 432x288 with 1 Axes>"
            ]
          },
          "metadata": {
            "tags": [],
            "needs_background": "light"
          }
        },
        {
          "output_type": "display_data",
          "data": {
            "image/png": "[encoded data removed]",
            "text/plain": [
              "<Figure size 432x288 with 1 Axes>"
            ]
          },
          "metadata": {
            "tags": [],
            "needs_background": "light"
          }
        }
      ]
    },
    {
      "cell_type": "markdown",
      "metadata": {
        "id": "DP_ocyB-t0SX"
      },
      "source": [
        "##Analisis de complejidad\n",
        "\n",
        "Master method:\n",
        "\n",
        "T(n) = aT(n/b) + F(n)\n",
        "\n",
        "a = 2\n",
        "b = 2\n",
        "F(n) = O(1)\n",
        "\n",
        "T(n) = 2(T(n/2)) + O(1)\n",
        "\n",
        "T(n) = 2(T(n/2)) + n^0\n",
        "\n",
        "d=0\n",
        "\n",
        "Caso 3:\n",
        "\n",
        "a> b^d \n",
        "2 > 2^0\n",
        "2> 1 \n",
        "\n",
        "T(n) = O(n^logb(a))\n",
        "n^log2(2)\n",
        "\n",
        "\n",
        "##Analisis cualitativo\n",
        "\n",
        "Comparando la version utilizando divide y venceras con la version iterativa de la potencia, en la implementacion que hice no encontre diferencias significativas incluso aplicando el master method.\n"
      ]
    }
  ]
}