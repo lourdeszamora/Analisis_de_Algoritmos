{
  "nbformat": 4,
  "nbformat_minor": 0,
  "metadata": {
    "colab": {
      "name": "Insertion Sort",
      "provenance": [],
      "collapsed_sections": [],
      "authorship_tag": "ABX9TyODZSwXHZCJ4/31EH/zmb/D",
      "include_colab_link": true
    },
    "kernelspec": {
      "name": "python3",
      "display_name": "Python 3"
    }
  },
  "cells": [
    {
      "cell_type": "markdown",
      "metadata": {
        "id": "view-in-github",
        "colab_type": "text"
      },
      "source": [
        "<a href=\"https://colab.research.google.com/github/lourdeszamora/Analisis_de_Algoritmos/blob/main/examen1/Insertion_Sort.ipynb\" target=\"_parent\"><img src=\"https://colab.research.google.com/assets/colab-badge.svg\" alt=\"Open In Colab\"/></a>"
      ]
    },
    {
      "cell_type": "markdown",
      "metadata": {
        "id": "LSLBX8NS5arL"
      },
      "source": [
        "Implementacion"
      ]
    },
    {
      "cell_type": "code",
      "metadata": {
        "colab": {
          "base_uri": "https://localhost:8080/"
        },
        "id": "WB6sYbK93ksp",
        "outputId": "a20c75a5-f57b-445e-e467-a0eb6b2ce05e"
      },
      "source": [
        "def insertionSort(array):\n",
        "  for i in range(1, len(array)):\n",
        "    j = i - 1\n",
        "    p = i\n",
        "    while j > -1 and array[j] > array[p]:\n",
        "        temp = array[p]\n",
        "        array[p] = array[j]\n",
        "        array[j] = temp\n",
        "        p=j\n",
        "        j -= 1\n",
        "  return array\n",
        "\n",
        "\n",
        "print(insertionSort([8,3,6,1,9,10,11,1]))"
      ],
      "execution_count": null,
      "outputs": [
        {
          "output_type": "stream",
          "text": [
            "[1, 1, 3, 6, 8, 9, 10, 11]\n"
          ],
          "name": "stdout"
        }
      ]
    },
    {
      "cell_type": "markdown",
      "metadata": {
        "id": "N3iIKPGy5io9"
      },
      "source": [
        "Grafica de tiempos de ejecucion"
      ]
    },
    {
      "cell_type": "code",
      "metadata": {
        "colab": {
          "base_uri": "https://localhost:8080/",
          "height": 301
        },
        "id": "6M4gP2xa5Z47",
        "outputId": "58284d6c-651d-4dba-fda8-9b0cfa71f4f8"
      },
      "source": [
        "import random\n",
        "import time\n",
        "import matplotlib.pyplot as plt\n",
        "\n",
        "def crearArreglo(size):\n",
        "  array=[]\n",
        "  for i in range(0,size): \n",
        "    array.append(random.randint(0,100))\n",
        "  return array\n",
        "\n",
        "\n",
        "def graficaTiempos():\n",
        "  tiempos=[]\n",
        "  cantsElementos=[]\n",
        "  \n",
        "  for i in range(0,10):\n",
        "    cant=(i+1)*5\n",
        "    cantsElementos.append(cant)\n",
        "    arreglo=crearArreglo(cant)\n",
        "    start_time=time.time()\n",
        "    insertionSort(arreglo)\n",
        "    tiempos.append(time.time()-start_time)\n",
        "  \n",
        "  \n",
        "  \n",
        "  plt.plot(tiempos)\n",
        "  print(cantsElementos)\n",
        "  print(tiempos)\n",
        "  plt.show()\n",
        "\n",
        "graficaTiempos()"
      ],
      "execution_count": null,
      "outputs": [
        {
          "output_type": "stream",
          "text": [
            "[5, 10, 15, 20, 25, 30, 35, 40, 45, 50]\n",
            "[4.291534423828125e-06, 6.67572021484375e-06, 9.059906005859375e-06, 2.1457672119140625e-05, 2.9087066650390625e-05, 4.076957702636719e-05, 6.890296936035156e-05, 7.05718994140625e-05, 0.00014281272888183594, 9.846687316894531e-05]\n"
          ],
          "name": "stdout"
        },
        {
          "output_type": "display_data",
          "data": {
            "image/png": "[encoded data removed]",
            "text/plain": [
              "<Figure size 432x288 with 1 Axes>"
            ]
          },
          "metadata": {
            "tags": [],
            "needs_background": "light"
          }
        }
      ]
    },
    {
      "cell_type": "markdown",
      "metadata": {
        "id": "NT4gz3PqHe6a"
      },
      "source": [
        "##Analisis de complejidad\n",
        "\n",
        "\n",
        "\n",
        "```\n",
        "  for i in range(1, len(array)):\n",
        "```\n",
        "\n",
        "El ciclo for tiene una complejidad de n-1, ya que tiene que recorrer el arreglo despues del primer elemento hasta el ultimo\n",
        "\n",
        "```\n",
        "      while j > -1 and array[j] > array[p]:\n",
        "```\n",
        "\n",
        "Dentro del ciclo for existe otro ciclo while este en el peor de los casos recorrera desde el ultimo elemento en la posicion n, hasta el primer elemento dando un orden n\n",
        "\n",
        "los elementos de asignacion dentro del for tienen un orden constante de igual forma las instrucciones dentro del ciclo while.\n",
        "\n",
        "Esto nos deja un orden de n^2 \n",
        "\n",
        "##Analisis cualitativo\n",
        "\n",
        "Los ordenamientos representan un reto en cuanto a los tiempos de ejecucion ya que la gran mayoria se acrecenta inevitabemente a medida crece la cantidad de elementos a ordenar en el caso de el insertion sort representa un orden de complejidad de n^2 lo cual si ya lo convertimos a gran escala representara una gran cantidad de tiempo de ejecucion para millones y millones de registros\n",
        "\n",
        "Si lo comparamos con el algoritmo de heapsort que es mucho mas rentable en consideraciones de tiempo ya que su orden es nlogn representa menos tiempo de inversion \n",
        "\n",
        "ahora por parte de el uso de memoria es mas simple el uso del insertion sort."
      ]
    }
  ]
}