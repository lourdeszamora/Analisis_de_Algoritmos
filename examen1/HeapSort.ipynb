{
  "nbformat": 4,
  "nbformat_minor": 0,
  "metadata": {
    "colab": {
      "name": "HeapSort.ipynb",
      "provenance": [],
      "collapsed_sections": [],
      "authorship_tag": "ABX9TyMpj/UO4i0a5sqfKipFlDwJ",
      "include_colab_link": true
    },
    "kernelspec": {
      "name": "python3",
      "display_name": "Python 3"
    }
  },
  "cells": [
    {
      "cell_type": "markdown",
      "metadata": {
        "id": "view-in-github",
        "colab_type": "text"
      },
      "source": [
        "<a href=\"https://colab.research.google.com/github/lourdeszamora/Analisis_de_Algoritmos/blob/main/examen1/HeapSort.ipynb\" target=\"_parent\"><img src=\"https://colab.research.google.com/assets/colab-badge.svg\" alt=\"Open In Colab\"/></a>"
      ]
    },
    {
      "cell_type": "markdown",
      "metadata": {
        "id": "rQSmtF1Yw94j"
      },
      "source": [
        "Code:"
      ]
    },
    {
      "cell_type": "code",
      "metadata": {
        "colab": {
          "base_uri": "https://localhost:8080/"
        },
        "id": "jfSio96AwaeM",
        "outputId": "7521794b-05ee-440a-c2a8-6b1ae67815b0"
      },
      "source": [
        "def heapify(arr, n, i):\n",
        "    largest = i\n",
        "    l = 2 * i + 1    \n",
        "    r = 2 * i + 2 \n",
        "    if l < n and arr[largest] < arr[l]:\n",
        "        largest = l\n",
        "    if r < n and arr[largest] < arr[r]:\n",
        "        largest = r\n",
        "    \n",
        "    if largest != i:\n",
        "        arr[i], arr[largest] = arr[largest], arr[i]    \n",
        "        heapify(arr, n, largest)\n",
        "\n",
        "\n",
        "\n",
        "def heapSort(arr):\n",
        "    n = len(arr)\n",
        "    for i in range(n//2 - 1, -1, -1):\n",
        "        heapify(arr, n, i)\n",
        " \n",
        "    for i in range(n-1, 0, -1):\n",
        "        arr[i], arr[0] = arr[0], arr[i]  \n",
        "        heapify(arr, i, 0)\n",
        "\n",
        "\n",
        "arr = [12, 11, 13, 5, 6, 7]\n",
        "print(arr)\n",
        "heapSort(arr)\n",
        "print(arr)"
      ],
      "execution_count": null,
      "outputs": [
        {
          "output_type": "stream",
          "text": [
            "[12, 11, 13, 5, 6, 7]\n",
            "[5, 6, 7, 11, 12, 13]\n"
          ],
          "name": "stdout"
        }
      ]
    },
    {
      "cell_type": "markdown",
      "metadata": {
        "id": "0f2hv_CLNG3f"
      },
      "source": [
        "Grafica de tiempos de ejecucion\n"
      ]
    },
    {
      "cell_type": "code",
      "metadata": {
        "colab": {
          "base_uri": "https://localhost:8080/",
          "height": 301
        },
        "id": "j_7ooyQlRnDO",
        "outputId": "92827539-df98-4244-f4f8-f71e551bffe5"
      },
      "source": [
        "import random\n",
        "import time\n",
        "import matplotlib.pyplot as plt\n",
        "\n",
        "def crearArreglo(size):\n",
        "  array=[]\n",
        "  for i in range(0,size): \n",
        "    array.append(random.randint(0,100))\n",
        "  return array\n",
        "\n",
        "\n",
        "def graficaTiempos():\n",
        "  tiempos=[]\n",
        "  cantsElementos=[]\n",
        "  \n",
        "  for i in range(0,10):\n",
        "    cant=(i+1)*5\n",
        "    cantsElementos.append(cant)\n",
        "    array=crearArreglo(cant)\n",
        "    start_time=time.time()\n",
        "    heapSort(array)\n",
        "    tiempos.append(time.time()-start_time)\n",
        "  \n",
        "  plt.plot(cantsElementos, tiempos)\n",
        "  print(cantsElementos)\n",
        "  print(tiempos)\n",
        "  plt.show()\n",
        "\n",
        "graficaTiempos()"
      ],
      "execution_count": null,
      "outputs": [
        {
          "output_type": "stream",
          "text": [
            "[5, 10, 15, 20, 25, 30, 35, 40, 45, 50]\n",
            "[1.1682510375976562e-05, 1.3828277587890625e-05, 2.002716064453125e-05, 3.0040740966796875e-05, 3.790855407714844e-05, 4.935264587402344e-05, 6.842613220214844e-05, 7.43865966796875e-05, 8.0108642578125e-05, 9.942054748535156e-05]\n"
          ],
          "name": "stdout"
        },
        {
          "output_type": "display_data",
          "data": {
            "image/png": "[encoded data removed]",
            "text/plain": [
              "<Figure size 432x288 with 1 Axes>"
            ]
          },
          "metadata": {
            "tags": [],
            "needs_background": "light"
          }
        }
      ]
    },
    {
      "cell_type": "markdown",
      "metadata": {
        "id": "it0RgDl_V6xc"
      },
      "source": [
        "## Analisis de Complejidad\n",
        "\n",
        "En cuastiones de analisis para el heapsort encontramos que dentro de la funcion heapify tenemos un orden de log(n) por como este estructura el heap \n",
        "\n",
        "Ahora en la cantidad de veces que llamamos al heap en el peor de los casos puede ser n\n",
        "\n",
        "esto nos deja un tiempo de nlogn\n",
        "\n",
        "\n",
        "##Analisis cualitativo\n",
        "\n",
        "Considero que este algoritmo de ordenamiento es una de las soluciones mas optimas en cuanto a tiempo de ejecucion, mientras tanto su defecto reside en la cantidad de resursos que requiere para llevarlo a gran escala."
      ]
    }
  ]
}